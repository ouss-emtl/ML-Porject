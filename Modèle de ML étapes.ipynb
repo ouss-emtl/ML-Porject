{
 "cells": [
  {
   "cell_type": "code",
   "execution_count": null,
   "metadata": {},
   "outputs": [],
   "source": [
    "import numpy as np\n",
    "import pandas as pd\n",
    "import matplotlib.pyplot as plt\n",
    "import sklearn\n",
    "\n",
    "from sklearn.model_selection import train_test_split\n",
    "from sklearn.model_selection import cross_val_score,KFold\n",
    "from sklearn.model_selection import validation_curve\n",
    "from sklearn.model_selection import GridSearchCV\n",
    "from sklearn.model_selection import learning_curve\n",
    "\n",
    "def modelsvmSVC(encodedData):\n",
    "    # division du data set \n",
    "    X,Y=[],[]\n",
    "    for tweet in encodedData:\n",
    "        X.append(tweet[\"vecteur\"])\n",
    "        Y.append(tweet[\"polarity\"])\n",
    "    X_train, X_test, y_train, y_test = train_test_split(X, Y, test_size=0, random_state=0)\n",
    "    \n",
    "    # choix du model : ici il s'agit du svm.svc\n",
    "    model=svm.SVC()\n",
    "    model.fit(X_train,y_train)\n",
    "    print(\"Train score:{}\".format(model.score(X_train,y_train)))\n",
    "    print(\"Test score:{}\".format(model.score(X_test,y_test)))\n",
    "\n",
    "\n",
    "    \n",
    "    # Kfold avec 10 pour le choix de cv\n",
    "    cv=KFold(10,random_state=0)\n",
    "    print(\"cross validation score moyen avec 10-fold {}\".format(cross_val_score(model,X_train,y_train,cv=cv,scoring='accuracy').mean()))\n",
    "    \n",
    "    # Test de toutes les combinaisons de paramètres d'un modèle\n",
    "    param_grid={'kernel': ['linear', 'poly', 'rbf', 'sigmoid', 'precomputed'], 'gamma':['scale', 'auto'],\n",
    "                         'C': [1, 10, 100, 1000],'decision_function_shape':['ovo', 'ovr']}\n",
    "\n",
    "    grid=GridSearchCV(model,param_grid,cv=cv)\n",
    "    grid.fit(X_train,y_train)\n",
    "    # modèle avec le meilleur score\n",
    "    print(grid.best_score_)\n",
    "    print(grid.best_params_)\n",
    "\n",
    "    # on recupère le meilleur model\n",
    "    Bmodel=grid.best_estimator_\n",
    "\n",
    "    # test du model sur le X_test,y_test\n",
    "    Bmodel.score(X_test,y_test)\n",
    "    \n",
    "    # Les perfomances augmentent t-elles si on donne plus de données?\n",
    "   \n",
    "    N,train_score,val_score=learning_curve(Bmodel,X_train,y_train,train_sizes=np.linspace(0.1,1.0,20),cv=cv)\n",
    "    print(N)\n",
    "    plt.plot(N,train_score.mean(axis=1),label='train')\n",
    "    plt.plot(N,val_score.mean(axis=1),label='validation')\n",
    "    plt.xlabel('train sizes')\n",
    "    plt.legend()\n",
    "    plt.show()"
   ]
  }
 ],
 "metadata": {
  "kernelspec": {
   "display_name": "Python 3",
   "language": "python",
   "name": "python3"
  },
  "language_info": {
   "codemirror_mode": {
    "name": "ipython",
    "version": 3
   },
   "file_extension": ".py",
   "mimetype": "text/x-python",
   "name": "python",
   "nbconvert_exporter": "python",
   "pygments_lexer": "ipython3",
   "version": "3.7.3"
  }
 },
 "nbformat": 4,
 "nbformat_minor": 4
}
