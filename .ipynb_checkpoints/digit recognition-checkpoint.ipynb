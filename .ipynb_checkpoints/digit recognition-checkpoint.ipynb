{
 "cells": [
  {
   "cell_type": "markdown",
   "metadata": {},
   "source": [
    "# Digits recognition "
   ]
  },
  {
   "cell_type": "code",
   "execution_count": 4,
   "metadata": {},
   "outputs": [
    {
     "name": "stdout",
     "output_type": "stream",
     "text": [
      "Requirement already satisfied: mnist in c:\\users\\rudolf\\anaconda3\\lib\\site-packages (0.2.2)\n",
      "Collecting keras\n",
      "  Downloading Keras-2.4.3-py2.py3-none-any.whl (36 kB)\n",
      "Requirement already satisfied: numpy in c:\\users\\rudolf\\anaconda3\\lib\\site-packages (from mnist) (1.19.2)\n",
      "Requirement already satisfied: pyyaml in c:\\users\\rudolf\\anaconda3\\lib\\site-packages (from keras) (5.3.1)\n",
      "Collecting h5py\n",
      "  Downloading h5py-3.0.0-cp37-cp37m-win_amd64.whl (2.7 MB)\n",
      "Requirement already satisfied: scipy>=0.14 in c:\\users\\rudolf\\anaconda3\\lib\\site-packages (from keras) (1.5.2)\n",
      "Collecting cached-property\n",
      "  Downloading cached_property-1.5.2-py2.py3-none-any.whl (7.6 kB)\n",
      "Installing collected packages: cached-property, h5py, keras\n",
      "Successfully installed cached-property-1.5.2 h5py-3.0.0 keras-2.4.3\n"
     ]
    },
    {
     "name": "stderr",
     "output_type": "stream",
     "text": [
      "ERROR: After October 2020 you may experience errors when installing or updating packages. This is because pip will change the way that it resolves dependency conflicts.\n",
      "\n",
      "We recommend you use --use-feature=2020-resolver to test your packages with the new resolver before it becomes the default.\n",
      "\n",
      "tensorflow 2.2.0 requires h5py<2.11.0,>=2.10.0, but you'll have h5py 3.0.0 which is incompatible.\n",
      "tensorflow 2.2.0 requires scipy==1.4.1; python_version >= \"3\", but you'll have scipy 1.5.2 which is incompatible.\n"
     ]
    }
   ],
   "source": [
    "!pip install mnist keras"
   ]
  },
  {
   "cell_type": "code",
   "execution_count": null,
   "metadata": {},
   "outputs": [],
   "source": []
  },
  {
   "cell_type": "code",
   "execution_count": 22,
   "metadata": {},
   "outputs": [],
   "source": [
    "# Importing packages and dependencies\n",
    "import numpy as np\n",
    "import mnist \n",
    "import matplotlib.pyplot as plt\n",
    "from keras.models import Sequential \n",
    "from keras.layers import Dense\n",
    "from keras.utils import to_categorical"
   ]
  },
  {
   "cell_type": "code",
   "execution_count": 39,
   "metadata": {},
   "outputs": [],
   "source": [
    "# Loading the data set\n",
    "images_train=mnist.train_images()\n",
    "labels_train=mnist.train_labels()\n",
    "images_test=mnist.test_images()\n",
    "labels_test=mnist.test_labels()"
   ]
  },
  {
   "cell_type": "code",
   "execution_count": 40,
   "metadata": {},
   "outputs": [
    {
     "name": "stdout",
     "output_type": "stream",
     "text": [
      "Training data shape is (60000, 784)\n",
      "Testing data shape is (10000, 784)\n"
     ]
    }
   ],
   "source": [
    "# Data normalisation : the pixels values will be normalized \n",
    "# from [0-250] to [-0.5 0.5]\n",
    "images_train =(images_train/255)-0.5\n",
    "images_test =(images_test/255)-0.5\n",
    "# Flatten the images \n",
    "# Flatten each 28x28 image into a 784=28*28 dimentional vector\n",
    "images_train=images_train.reshape((-1,784))\n",
    "images_test=images_test.reshape((-1,784))\n",
    "# print the shape\n",
    "print(\"Training data shape is {}\".format(images_train.shape))\n",
    "print(\"Testing data shape is {}\".format(images_test.shape))\n"
   ]
  },
  {
   "cell_type": "code",
   "execution_count": 41,
   "metadata": {},
   "outputs": [],
   "source": [
    "# Building the model\n",
    "# 3 layers, 2 layers with 64 neurons and the relu function\n",
    "# 1 layers with 10 neurons and softmax function\n",
    "\n",
    "model= Sequential()\n",
    "model.add(Dense(64,activation='relu',input_dim=784))\n",
    "model.add(Dense(64,activation=\"relu\"))\n",
    "model.add(Dense(10,activation='softmax'))"
   ]
  },
  {
   "cell_type": "code",
   "execution_count": 42,
   "metadata": {},
   "outputs": [],
   "source": [
    "# Compile the model\n",
    "# The loss function \n",
    "model.compile(\n",
    " optimizer='adam',\n",
    "    loss='categorical_crossentropy',\n",
    "    metrics=['accuracy']\n",
    "    \n",
    ")"
   ]
  },
  {
   "cell_type": "code",
   "execution_count": 43,
   "metadata": {},
   "outputs": [
    {
     "name": "stdout",
     "output_type": "stream",
     "text": [
      "Epoch 1/5\n",
      "1429/1429 [==============================] - 3s 2ms/step - loss: 0.3455 - accuracy: 0.8964\n",
      "Epoch 2/5\n",
      "1429/1429 [==============================] - 3s 2ms/step - loss: 0.1749 - accuracy: 0.9465\n",
      "Epoch 3/5\n",
      "1429/1429 [==============================] - 2s 2ms/step - loss: 0.1353 - accuracy: 0.9584\n",
      "Epoch 4/5\n",
      "1429/1429 [==============================] - 2s 2ms/step - loss: 0.1136 - accuracy: 0.9648\n",
      "Epoch 5/5\n",
      "1429/1429 [==============================] - 3s 2ms/step - loss: 0.0969 - accuracy: 0.9694\n"
     ]
    },
    {
     "data": {
      "text/plain": [
       "<tensorflow.python.keras.callbacks.History at 0x25903a73e08>"
      ]
     },
     "execution_count": 43,
     "metadata": {},
     "output_type": "execute_result"
    }
   ],
   "source": [
    "# Train the model\n",
    "model.fit(\n",
    "     images_train,\n",
    "    to_categorical(labels_train), # for exemple 3 becomes [0,0,0,1,0,0,0,0,0,0]\n",
    "    epochs=5,  # number of iterations over the entire dataset\n",
    "    batch_size=42, # number of samples per gratient update for training\n",
    ")"
   ]
  },
  {
   "cell_type": "code",
   "execution_count": 44,
   "metadata": {},
   "outputs": [
    {
     "name": "stdout",
     "output_type": "stream",
     "text": [
      "313/313 [==============================] - 0s 1ms/step - loss: 0.0986 - accuracy: 0.9695\n"
     ]
    },
    {
     "data": {
      "text/plain": [
       "[0.09861432760953903, 0.9695000052452087]"
      ]
     },
     "execution_count": 44,
     "metadata": {},
     "output_type": "execute_result"
    }
   ],
   "source": [
    "# Model evaluation\n",
    "model.evaluate( \n",
    "    images_test,\n",
    "    to_categorical(labels_test)\n",
    ")"
   ]
  },
  {
   "cell_type": "code",
   "execution_count": null,
   "metadata": {},
   "outputs": [],
   "source": [
    "# Model saving : model.save_weigths('model.h5')\n"
   ]
  },
  {
   "cell_type": "code",
   "execution_count": 47,
   "metadata": {},
   "outputs": [
    {
     "name": "stdout",
     "output_type": "stream",
     "text": [
      "[7 2 1 0 4 1 4 9 5 9]\n",
      "[7 2 1 0 4 1 4 9 5 9]\n"
     ]
    }
   ],
   "source": [
    "# Prediction on the first 10 images\n",
    "predictions=model.predict(images_test[:10])\n",
    "\n",
    "#print(predictions)  return the probabilities \n",
    "# print the predictions\n",
    "print(np.argmax(predictions, axis=1))\n",
    "print(labels_test[:10])"
   ]
  },
  {
   "cell_type": "code",
   "execution_count": 50,
   "metadata": {},
   "outputs": [
    {
     "data": {
      "image/png": "[encoded data removed]",
      "text/plain": [
       "<Figure size 432x288 with 1 Axes>"
      ]
     },
     "metadata": {
      "needs_background": "light"
     },
     "output_type": "display_data"
    },
    {
     "data": {
      "image/png": "[encoded data removed]",
      "text/plain": [
       "<Figure size 432x288 with 1 Axes>"
      ]
     },
     "metadata": {
      "needs_background": "light"
     },
     "output_type": "display_data"
    },
    {
     "data": {
      "image/png": "[encoded data removed]",
      "text/plain": [
       "<Figure size 432x288 with 1 Axes>"
      ]
     },
     "metadata": {
      "needs_background": "light"
     },
     "output_type": "display_data"
    },
    {
     "data": {
      "image/png": "[encoded data removed]",
      "text/plain": [
       "<Figure size 432x288 with 1 Axes>"
      ]
     },
     "metadata": {
      "needs_background": "light"
     },
     "output_type": "display_data"
    },
    {
     "data": {
      "image/png": "[encoded data removed]",
      "text/plain": [
       "<Figure size 432x288 with 1 Axes>"
      ]
     },
     "metadata": {
      "needs_background": "light"
     },
     "output_type": "display_data"
    },
    {
     "data": {
      "image/png": "[encoded data removed]",
      "text/plain": [
       "<Figure size 432x288 with 1 Axes>"
      ]
     },
     "metadata": {
      "needs_background": "light"
     },
     "output_type": "display_data"
    },
    {
     "data": {
      "image/png": "[encoded data removed]",
      "text/plain": [
       "<Figure size 432x288 with 1 Axes>"
      ]
     },
     "metadata": {
      "needs_background": "light"
     },
     "output_type": "display_data"
    },
    {
     "data": {
      "image/png": "[encoded data removed]",
      "text/plain": [
       "<Figure size 432x288 with 1 Axes>"
      ]
     },
     "metadata": {
      "needs_background": "light"
     },
     "output_type": "display_data"
    },
    {
     "data": {
      "image/png": "[encoded data removed]",
      "text/plain": [
       "<Figure size 432x288 with 1 Axes>"
      ]
     },
     "metadata": {
      "needs_background": "light"
     },
     "output_type": "display_data"
    },
    {
     "data": {
      "image/png": "[encoded data removed]",
      "text/plain": [
       "<Figure size 432x288 with 1 Axes>"
      ]
     },
     "metadata": {
      "needs_background": "light"
     },
     "output_type": "display_data"
    }
   ],
   "source": [
    "for i in range(0,10):\n",
    "    an_image=images_test[i]\n",
    "    an_image=np.array(an_image,dtype='float')\n",
    "    pixels=an_image.reshape((28,28))\n",
    "    plt.imshow(pixels, cmap='gray')\n",
    "    plt.show()"
   ]
  },
  {
   "cell_type": "code",
   "execution_count": null,
   "metadata": {},
   "outputs": [],
   "source": []
  }
 ],
 "metadata": {
  "kernelspec": {
   "display_name": "Python 3",
   "language": "python",
   "name": "python3"
  },
  "language_info": {
   "codemirror_mode": {
    "name": "ipython",
    "version": 3
   },
   "file_extension": ".py",
   "mimetype": "text/x-python",
   "name": "python",
   "nbconvert_exporter": "python",
   "pygments_lexer": "ipython3",
   "version": "3.7.9"
  }
 },
 "nbformat": 4,
 "nbformat_minor": 4
}
